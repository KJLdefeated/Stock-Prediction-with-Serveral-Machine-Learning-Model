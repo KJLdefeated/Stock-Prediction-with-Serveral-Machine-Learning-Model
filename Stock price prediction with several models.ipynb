{
 "cells": [
  {
   "cell_type": "code",
   "execution_count": 1,
   "id": "4b24460c",
   "metadata": {},
   "outputs": [
    {
     "name": "stdout",
     "output_type": "stream",
     "text": [
      "[*********************100%***********************]  1 of 1 completed\n"
     ]
    }
   ],
   "source": [
    "import yfinance as yf\n",
    "import talib\n",
    "import numpy as np\n",
    "import pandas as pd\n",
    "import matplotlib.pyplot as plt\n",
    "from matplotlib import pyplot\n",
    "from sklearn.ensemble import RandomForestRegressor\n",
    "from sklearn.linear_model import LinearRegression\n",
    "from sklearn.neural_network import MLPRegressor\n",
    "from sklearn.model_selection import ParameterGrid\n",
    "from sklearn import metrics\n",
    "%matplotlib inline\n",
    "\n",
    "ticker= \"2454.TW\"\n",
    "stock_data = yf.download(ticker, start=\"2015-01-04\", end=\"2021-12-15\")"
   ]
  },
  {
   "cell_type": "code",
   "execution_count": 2,
   "id": "0e458a22",
   "metadata": {},
   "outputs": [
    {
     "data": {
      "text/html": [
       "<div>\n",
       "<style scoped>\n",
       "    .dataframe tbody tr th:only-of-type {\n",
       "        vertical-align: middle;\n",
       "    }\n",
       "\n",
       "    .dataframe tbody tr th {\n",
       "        vertical-align: top;\n",
       "    }\n",
       "\n",
       "    .dataframe thead th {\n",
       "        text-align: right;\n",
       "    }\n",
       "</style>\n",
       "<table border=\"1\" class=\"dataframe\">\n",
       "  <thead>\n",
       "    <tr style=\"text-align: right;\">\n",
       "      <th></th>\n",
       "      <th>Open</th>\n",
       "      <th>High</th>\n",
       "      <th>Low</th>\n",
       "      <th>Close</th>\n",
       "      <th>Adj Close</th>\n",
       "      <th>Volume</th>\n",
       "    </tr>\n",
       "    <tr>\n",
       "      <th>Date</th>\n",
       "      <th></th>\n",
       "      <th></th>\n",
       "      <th></th>\n",
       "      <th></th>\n",
       "      <th></th>\n",
       "      <th></th>\n",
       "    </tr>\n",
       "  </thead>\n",
       "  <tbody>\n",
       "    <tr>\n",
       "      <th>2015-01-05</th>\n",
       "      <td>460.0</td>\n",
       "      <td>467.0</td>\n",
       "      <td>460.0</td>\n",
       "      <td>462.0</td>\n",
       "      <td>357.540588</td>\n",
       "      <td>2459000</td>\n",
       "    </tr>\n",
       "    <tr>\n",
       "      <th>2015-01-06</th>\n",
       "      <td>460.0</td>\n",
       "      <td>462.0</td>\n",
       "      <td>458.0</td>\n",
       "      <td>458.0</td>\n",
       "      <td>354.445007</td>\n",
       "      <td>5915000</td>\n",
       "    </tr>\n",
       "    <tr>\n",
       "      <th>2015-01-07</th>\n",
       "      <td>468.0</td>\n",
       "      <td>487.0</td>\n",
       "      <td>466.5</td>\n",
       "      <td>486.5</td>\n",
       "      <td>376.501068</td>\n",
       "      <td>13046000</td>\n",
       "    </tr>\n",
       "    <tr>\n",
       "      <th>2015-01-08</th>\n",
       "      <td>492.5</td>\n",
       "      <td>494.5</td>\n",
       "      <td>484.5</td>\n",
       "      <td>485.0</td>\n",
       "      <td>375.340210</td>\n",
       "      <td>8367000</td>\n",
       "    </tr>\n",
       "    <tr>\n",
       "      <th>2015-01-09</th>\n",
       "      <td>492.0</td>\n",
       "      <td>495.0</td>\n",
       "      <td>488.0</td>\n",
       "      <td>488.0</td>\n",
       "      <td>377.661926</td>\n",
       "      <td>7473000</td>\n",
       "    </tr>\n",
       "    <tr>\n",
       "      <th>...</th>\n",
       "      <td>...</td>\n",
       "      <td>...</td>\n",
       "      <td>...</td>\n",
       "      <td>...</td>\n",
       "      <td>...</td>\n",
       "      <td>...</td>\n",
       "    </tr>\n",
       "    <tr>\n",
       "      <th>2021-12-08</th>\n",
       "      <td>1085.0</td>\n",
       "      <td>1110.0</td>\n",
       "      <td>1080.0</td>\n",
       "      <td>1095.0</td>\n",
       "      <td>1095.000000</td>\n",
       "      <td>7323171</td>\n",
       "    </tr>\n",
       "    <tr>\n",
       "      <th>2021-12-09</th>\n",
       "      <td>1095.0</td>\n",
       "      <td>1100.0</td>\n",
       "      <td>1075.0</td>\n",
       "      <td>1085.0</td>\n",
       "      <td>1085.000000</td>\n",
       "      <td>2463930</td>\n",
       "    </tr>\n",
       "    <tr>\n",
       "      <th>2021-12-10</th>\n",
       "      <td>1075.0</td>\n",
       "      <td>1085.0</td>\n",
       "      <td>1065.0</td>\n",
       "      <td>1075.0</td>\n",
       "      <td>1075.000000</td>\n",
       "      <td>2943248</td>\n",
       "    </tr>\n",
       "    <tr>\n",
       "      <th>2021-12-13</th>\n",
       "      <td>1070.0</td>\n",
       "      <td>1095.0</td>\n",
       "      <td>1070.0</td>\n",
       "      <td>1075.0</td>\n",
       "      <td>1075.000000</td>\n",
       "      <td>3276917</td>\n",
       "    </tr>\n",
       "    <tr>\n",
       "      <th>2021-12-14</th>\n",
       "      <td>1070.0</td>\n",
       "      <td>1075.0</td>\n",
       "      <td>1050.0</td>\n",
       "      <td>1070.0</td>\n",
       "      <td>1070.000000</td>\n",
       "      <td>4130770</td>\n",
       "    </tr>\n",
       "  </tbody>\n",
       "</table>\n",
       "<p>1695 rows × 6 columns</p>\n",
       "</div>"
      ],
      "text/plain": [
       "              Open    High     Low   Close    Adj Close    Volume\n",
       "Date                                                             \n",
       "2015-01-05   460.0   467.0   460.0   462.0   357.540588   2459000\n",
       "2015-01-06   460.0   462.0   458.0   458.0   354.445007   5915000\n",
       "2015-01-07   468.0   487.0   466.5   486.5   376.501068  13046000\n",
       "2015-01-08   492.5   494.5   484.5   485.0   375.340210   8367000\n",
       "2015-01-09   492.0   495.0   488.0   488.0   377.661926   7473000\n",
       "...            ...     ...     ...     ...          ...       ...\n",
       "2021-12-08  1085.0  1110.0  1080.0  1095.0  1095.000000   7323171\n",
       "2021-12-09  1095.0  1100.0  1075.0  1085.0  1085.000000   2463930\n",
       "2021-12-10  1075.0  1085.0  1065.0  1075.0  1075.000000   2943248\n",
       "2021-12-13  1070.0  1095.0  1070.0  1075.0  1075.000000   3276917\n",
       "2021-12-14  1070.0  1075.0  1050.0  1070.0  1070.000000   4130770\n",
       "\n",
       "[1695 rows x 6 columns]"
      ]
     },
     "execution_count": 2,
     "metadata": {},
     "output_type": "execute_result"
    }
   ],
   "source": [
    "stock_data"
   ]
  },
  {
   "cell_type": "code",
   "execution_count": 3,
   "id": "8d90f181",
   "metadata": {},
   "outputs": [
    {
     "data": {
      "image/png": "[encoded data removed]",
      "text/plain": [
       "<Figure size 432x288 with 1 Axes>"
      ]
     },
     "metadata": {
      "needs_background": "light"
     },
     "output_type": "display_data"
    }
   ],
   "source": [
    "stock_data['Adj Close'].plot()\n",
    "plt.ylabel(\"Adjusted Close Prices\")\n",
    "plt.show()"
   ]
  },
  {
   "cell_type": "code",
   "execution_count": 4,
   "id": "31c082f8",
   "metadata": {},
   "outputs": [
    {
     "data": {
      "image/png": "[encoded data removed]",
      "text/plain": [
       "<Figure size 432x288 with 1 Axes>"
      ]
     },
     "metadata": {
      "needs_background": "light"
     },
     "output_type": "display_data"
    }
   ],
   "source": [
    "stock_data['Adj Close'].pct_change().plot.hist(bins=50)\n",
    "plt.xlabel(\"Adjusted close 1 day percent change\")\n",
    "plt.show()"
   ]
  },
  {
   "cell_type": "code",
   "execution_count": 5,
   "id": "3e04cd0c",
   "metadata": {},
   "outputs": [],
   "source": [
    "feature_names = []\n",
    "for n in [14, 30, 50, 200]:\n",
    "    stock_data['ma'  + str(n)] = talib.SMA(stock_data['Adj Close'].values, timeperiod = n)\n",
    "    stock_data['rsi' + str(n)] = talib.RSI(stock_data['Adj Close'].values, timeperiod = n)\n",
    "    \n",
    "    feature_names = feature_names + ['ma' + str(n), 'rsi' + str(n)]"
   ]
  },
  {
   "cell_type": "code",
   "execution_count": 6,
   "id": "5c1591da",
   "metadata": {},
   "outputs": [],
   "source": [
    "stock_data['Volume_1d_change'] = stock_data['Volume'].pct_change()"
   ]
  },
  {
   "cell_type": "code",
   "execution_count": 7,
   "id": "1e40f676",
   "metadata": {},
   "outputs": [],
   "source": [
    "stock_data['5d_future_close'] = stock_data['Adj Close'].shift(-5)\n",
    "stock_data['5d_close_future_pct'] = stock_data['5d_future_close'].pct_change(5)"
   ]
  },
  {
   "cell_type": "code",
   "execution_count": 21,
   "id": "8057c3f0",
   "metadata": {},
   "outputs": [
    {
     "data": {
      "text/plain": [
       "['ma14', 'rsi14', 'ma30', 'rsi30', 'ma50', 'rsi50', 'ma200', 'rsi200']"
      ]
     },
     "execution_count": 21,
     "metadata": {},
     "output_type": "execute_result"
    }
   ],
   "source": [
    "feature_names"
   ]
  },
  {
   "cell_type": "code",
   "execution_count": 20,
   "id": "69cd284b",
   "metadata": {},
   "outputs": [
    {
     "data": {
      "text/html": [
       "<div>\n",
       "<style scoped>\n",
       "    .dataframe tbody tr th:only-of-type {\n",
       "        vertical-align: middle;\n",
       "    }\n",
       "\n",
       "    .dataframe tbody tr th {\n",
       "        vertical-align: top;\n",
       "    }\n",
       "\n",
       "    .dataframe thead th {\n",
       "        text-align: right;\n",
       "    }\n",
       "</style>\n",
       "<table border=\"1\" class=\"dataframe\">\n",
       "  <thead>\n",
       "    <tr style=\"text-align: right;\">\n",
       "      <th></th>\n",
       "      <th>Open</th>\n",
       "      <th>High</th>\n",
       "      <th>Low</th>\n",
       "      <th>Close</th>\n",
       "      <th>Adj Close</th>\n",
       "      <th>Volume</th>\n",
       "      <th>ma14</th>\n",
       "      <th>rsi14</th>\n",
       "      <th>ma30</th>\n",
       "      <th>rsi30</th>\n",
       "      <th>ma50</th>\n",
       "      <th>rsi50</th>\n",
       "      <th>ma200</th>\n",
       "      <th>rsi200</th>\n",
       "      <th>Volume_1d_change</th>\n",
       "      <th>5d_future_close</th>\n",
       "      <th>5d_close_future_pct</th>\n",
       "    </tr>\n",
       "    <tr>\n",
       "      <th>Date</th>\n",
       "      <th></th>\n",
       "      <th></th>\n",
       "      <th></th>\n",
       "      <th></th>\n",
       "      <th></th>\n",
       "      <th></th>\n",
       "      <th></th>\n",
       "      <th></th>\n",
       "      <th></th>\n",
       "      <th></th>\n",
       "      <th></th>\n",
       "      <th></th>\n",
       "      <th></th>\n",
       "      <th></th>\n",
       "      <th></th>\n",
       "      <th></th>\n",
       "      <th></th>\n",
       "    </tr>\n",
       "  </thead>\n",
       "  <tbody>\n",
       "    <tr>\n",
       "      <th>2015-10-29</th>\n",
       "      <td>259.0</td>\n",
       "      <td>259.0</td>\n",
       "      <td>252.5</td>\n",
       "      <td>253.0</td>\n",
       "      <td>207.533081</td>\n",
       "      <td>6685000</td>\n",
       "      <td>220.335440</td>\n",
       "      <td>41.813898</td>\n",
       "      <td>214.136404</td>\n",
       "      <td>43.206475</td>\n",
       "      <td>211.396641</td>\n",
       "      <td>42.420832</td>\n",
       "      <td>294.005921</td>\n",
       "      <td>42.085913</td>\n",
       "      <td>-0.592998</td>\n",
       "      <td>243.625778</td>\n",
       "      <td>0.173913</td>\n",
       "    </tr>\n",
       "    <tr>\n",
       "      <th>2015-10-30</th>\n",
       "      <td>252.0</td>\n",
       "      <td>258.5</td>\n",
       "      <td>249.5</td>\n",
       "      <td>254.5</td>\n",
       "      <td>208.763504</td>\n",
       "      <td>7042000</td>\n",
       "      <td>219.632335</td>\n",
       "      <td>43.122727</td>\n",
       "      <td>213.548531</td>\n",
       "      <td>43.726273</td>\n",
       "      <td>211.290003</td>\n",
       "      <td>42.722177</td>\n",
       "      <td>293.277514</td>\n",
       "      <td>42.161382</td>\n",
       "      <td>0.053403</td>\n",
       "      <td>236.243210</td>\n",
       "      <td>0.131631</td>\n",
       "    </tr>\n",
       "    <tr>\n",
       "      <th>2015-11-02</th>\n",
       "      <td>259.5</td>\n",
       "      <td>271.0</td>\n",
       "      <td>259.5</td>\n",
       "      <td>270.0</td>\n",
       "      <td>221.477982</td>\n",
       "      <td>18087000</td>\n",
       "      <td>219.222191</td>\n",
       "      <td>54.509764</td>\n",
       "      <td>213.357130</td>\n",
       "      <td>48.741273</td>\n",
       "      <td>211.454061</td>\n",
       "      <td>45.717714</td>\n",
       "      <td>292.502398</td>\n",
       "      <td>42.933678</td>\n",
       "      <td>1.568446</td>\n",
       "      <td>234.602585</td>\n",
       "      <td>0.059259</td>\n",
       "    </tr>\n",
       "    <tr>\n",
       "      <th>2015-11-03</th>\n",
       "      <td>275.0</td>\n",
       "      <td>279.0</td>\n",
       "      <td>273.5</td>\n",
       "      <td>276.0</td>\n",
       "      <td>226.399719</td>\n",
       "      <td>17449000</td>\n",
       "      <td>219.427264</td>\n",
       "      <td>58.013909</td>\n",
       "      <td>213.288772</td>\n",
       "      <td>50.507506</td>\n",
       "      <td>211.814987</td>\n",
       "      <td>46.816366</td>\n",
       "      <td>291.757696</td>\n",
       "      <td>43.228590</td>\n",
       "      <td>-0.035274</td>\n",
       "      <td>234.192459</td>\n",
       "      <td>0.034420</td>\n",
       "    </tr>\n",
       "    <tr>\n",
       "      <th>2015-11-04</th>\n",
       "      <td>283.0</td>\n",
       "      <td>303.5</td>\n",
       "      <td>281.0</td>\n",
       "      <td>302.5</td>\n",
       "      <td>248.137344</td>\n",
       "      <td>29579000</td>\n",
       "      <td>220.979951</td>\n",
       "      <td>69.272222</td>\n",
       "      <td>214.355147</td>\n",
       "      <td>57.239445</td>\n",
       "      <td>213.020811</td>\n",
       "      <td>51.262033</td>\n",
       "      <td>291.110073</td>\n",
       "      <td>44.501691</td>\n",
       "      <td>0.695169</td>\n",
       "      <td>225.579437</td>\n",
       "      <td>-0.090909</td>\n",
       "    </tr>\n",
       "    <tr>\n",
       "      <th>...</th>\n",
       "      <td>...</td>\n",
       "      <td>...</td>\n",
       "      <td>...</td>\n",
       "      <td>...</td>\n",
       "      <td>...</td>\n",
       "      <td>...</td>\n",
       "      <td>...</td>\n",
       "      <td>...</td>\n",
       "      <td>...</td>\n",
       "      <td>...</td>\n",
       "      <td>...</td>\n",
       "      <td>...</td>\n",
       "      <td>...</td>\n",
       "      <td>...</td>\n",
       "      <td>...</td>\n",
       "      <td>...</td>\n",
       "      <td>...</td>\n",
       "    </tr>\n",
       "    <tr>\n",
       "      <th>2021-12-01</th>\n",
       "      <td>1020.0</td>\n",
       "      <td>1070.0</td>\n",
       "      <td>1010.0</td>\n",
       "      <td>1065.0</td>\n",
       "      <td>1065.000000</td>\n",
       "      <td>6353875</td>\n",
       "      <td>1040.571429</td>\n",
       "      <td>62.013665</td>\n",
       "      <td>986.733333</td>\n",
       "      <td>59.637491</td>\n",
       "      <td>950.600000</td>\n",
       "      <td>57.203427</td>\n",
       "      <td>927.925692</td>\n",
       "      <td>54.925720</td>\n",
       "      <td>-0.218757</td>\n",
       "      <td>1095.000000</td>\n",
       "      <td>0.028169</td>\n",
       "    </tr>\n",
       "    <tr>\n",
       "      <th>2021-12-02</th>\n",
       "      <td>1045.0</td>\n",
       "      <td>1085.0</td>\n",
       "      <td>1040.0</td>\n",
       "      <td>1080.0</td>\n",
       "      <td>1080.000000</td>\n",
       "      <td>7112276</td>\n",
       "      <td>1047.500000</td>\n",
       "      <td>64.045378</td>\n",
       "      <td>992.300000</td>\n",
       "      <td>60.784230</td>\n",
       "      <td>953.980000</td>\n",
       "      <td>57.966007</td>\n",
       "      <td>928.759339</td>\n",
       "      <td>55.159611</td>\n",
       "      <td>0.119360</td>\n",
       "      <td>1085.000000</td>\n",
       "      <td>0.004630</td>\n",
       "    </tr>\n",
       "    <tr>\n",
       "      <th>2021-12-03</th>\n",
       "      <td>1080.0</td>\n",
       "      <td>1090.0</td>\n",
       "      <td>1055.0</td>\n",
       "      <td>1060.0</td>\n",
       "      <td>1060.000000</td>\n",
       "      <td>4662507</td>\n",
       "      <td>1050.000000</td>\n",
       "      <td>59.477533</td>\n",
       "      <td>996.766667</td>\n",
       "      <td>58.492068</td>\n",
       "      <td>956.880000</td>\n",
       "      <td>56.593991</td>\n",
       "      <td>929.512213</td>\n",
       "      <td>54.778710</td>\n",
       "      <td>-0.344442</td>\n",
       "      <td>1075.000000</td>\n",
       "      <td>0.014151</td>\n",
       "    </tr>\n",
       "    <tr>\n",
       "      <th>2021-12-06</th>\n",
       "      <td>1060.0</td>\n",
       "      <td>1085.0</td>\n",
       "      <td>1040.0</td>\n",
       "      <td>1085.0</td>\n",
       "      <td>1085.000000</td>\n",
       "      <td>4605648</td>\n",
       "      <td>1053.571429</td>\n",
       "      <td>63.027297</td>\n",
       "      <td>1001.666667</td>\n",
       "      <td>60.421998</td>\n",
       "      <td>960.180000</td>\n",
       "      <td>57.866034</td>\n",
       "      <td>930.370860</td>\n",
       "      <td>55.167639</td>\n",
       "      <td>-0.012195</td>\n",
       "      <td>1075.000000</td>\n",
       "      <td>-0.009217</td>\n",
       "    </tr>\n",
       "    <tr>\n",
       "      <th>2021-12-07</th>\n",
       "      <td>1060.0</td>\n",
       "      <td>1080.0</td>\n",
       "      <td>1050.0</td>\n",
       "      <td>1065.0</td>\n",
       "      <td>1065.000000</td>\n",
       "      <td>6117755</td>\n",
       "      <td>1056.071429</td>\n",
       "      <td>58.604384</td>\n",
       "      <td>1005.633333</td>\n",
       "      <td>58.183169</td>\n",
       "      <td>962.300000</td>\n",
       "      <td>56.514048</td>\n",
       "      <td>930.985306</td>\n",
       "      <td>54.788773</td>\n",
       "      <td>0.328316</td>\n",
       "      <td>1070.000000</td>\n",
       "      <td>0.004695</td>\n",
       "    </tr>\n",
       "  </tbody>\n",
       "</table>\n",
       "<p>1489 rows × 17 columns</p>\n",
       "</div>"
      ],
      "text/plain": [
       "              Open    High     Low   Close    Adj Close    Volume  \\\n",
       "Date                                                                \n",
       "2015-10-29   259.0   259.0   252.5   253.0   207.533081   6685000   \n",
       "2015-10-30   252.0   258.5   249.5   254.5   208.763504   7042000   \n",
       "2015-11-02   259.5   271.0   259.5   270.0   221.477982  18087000   \n",
       "2015-11-03   275.0   279.0   273.5   276.0   226.399719  17449000   \n",
       "2015-11-04   283.0   303.5   281.0   302.5   248.137344  29579000   \n",
       "...            ...     ...     ...     ...          ...       ...   \n",
       "2021-12-01  1020.0  1070.0  1010.0  1065.0  1065.000000   6353875   \n",
       "2021-12-02  1045.0  1085.0  1040.0  1080.0  1080.000000   7112276   \n",
       "2021-12-03  1080.0  1090.0  1055.0  1060.0  1060.000000   4662507   \n",
       "2021-12-06  1060.0  1085.0  1040.0  1085.0  1085.000000   4605648   \n",
       "2021-12-07  1060.0  1080.0  1050.0  1065.0  1065.000000   6117755   \n",
       "\n",
       "                   ma14      rsi14         ma30      rsi30        ma50  \\\n",
       "Date                                                                     \n",
       "2015-10-29   220.335440  41.813898   214.136404  43.206475  211.396641   \n",
       "2015-10-30   219.632335  43.122727   213.548531  43.726273  211.290003   \n",
       "2015-11-02   219.222191  54.509764   213.357130  48.741273  211.454061   \n",
       "2015-11-03   219.427264  58.013909   213.288772  50.507506  211.814987   \n",
       "2015-11-04   220.979951  69.272222   214.355147  57.239445  213.020811   \n",
       "...                 ...        ...          ...        ...         ...   \n",
       "2021-12-01  1040.571429  62.013665   986.733333  59.637491  950.600000   \n",
       "2021-12-02  1047.500000  64.045378   992.300000  60.784230  953.980000   \n",
       "2021-12-03  1050.000000  59.477533   996.766667  58.492068  956.880000   \n",
       "2021-12-06  1053.571429  63.027297  1001.666667  60.421998  960.180000   \n",
       "2021-12-07  1056.071429  58.604384  1005.633333  58.183169  962.300000   \n",
       "\n",
       "                rsi50       ma200     rsi200  Volume_1d_change  \\\n",
       "Date                                                             \n",
       "2015-10-29  42.420832  294.005921  42.085913         -0.592998   \n",
       "2015-10-30  42.722177  293.277514  42.161382          0.053403   \n",
       "2015-11-02  45.717714  292.502398  42.933678          1.568446   \n",
       "2015-11-03  46.816366  291.757696  43.228590         -0.035274   \n",
       "2015-11-04  51.262033  291.110073  44.501691          0.695169   \n",
       "...               ...         ...        ...               ...   \n",
       "2021-12-01  57.203427  927.925692  54.925720         -0.218757   \n",
       "2021-12-02  57.966007  928.759339  55.159611          0.119360   \n",
       "2021-12-03  56.593991  929.512213  54.778710         -0.344442   \n",
       "2021-12-06  57.866034  930.370860  55.167639         -0.012195   \n",
       "2021-12-07  56.514048  930.985306  54.788773          0.328316   \n",
       "\n",
       "            5d_future_close  5d_close_future_pct  \n",
       "Date                                              \n",
       "2015-10-29       243.625778             0.173913  \n",
       "2015-10-30       236.243210             0.131631  \n",
       "2015-11-02       234.602585             0.059259  \n",
       "2015-11-03       234.192459             0.034420  \n",
       "2015-11-04       225.579437            -0.090909  \n",
       "...                     ...                  ...  \n",
       "2021-12-01      1095.000000             0.028169  \n",
       "2021-12-02      1085.000000             0.004630  \n",
       "2021-12-03      1075.000000             0.014151  \n",
       "2021-12-06      1075.000000            -0.009217  \n",
       "2021-12-07      1070.000000             0.004695  \n",
       "\n",
       "[1489 rows x 17 columns]"
      ]
     },
     "execution_count": 20,
     "metadata": {},
     "output_type": "execute_result"
    }
   ],
   "source": [
    "stock_data"
   ]
  },
  {
   "cell_type": "code",
   "execution_count": 9,
   "id": "cf34579e",
   "metadata": {},
   "outputs": [],
   "source": [
    "stock_data.dropna(inplace = True)\n",
    "X = stock_data[feature_names]\n",
    "Y = stock_data['5d_close_future_pct']\n",
    "train_size = int(0.90 * Y.shape[0])\n",
    "X_train = X[:train_size]\n",
    "y_train = Y[:train_size]\n",
    "X_test = X[train_size:]\n",
    "y_test = Y[train_size:]"
   ]
  },
  {
   "cell_type": "code",
   "execution_count": 19,
   "id": "f7c001c7",
   "metadata": {},
   "outputs": [
    {
     "data": {
      "text/plain": [
       "Date\n",
       "2015-10-29    0.173913\n",
       "2015-10-30    0.131631\n",
       "2015-11-02    0.059259\n",
       "2015-11-03    0.034420\n",
       "2015-11-04   -0.090909\n",
       "                ...   \n",
       "2021-04-29   -0.105485\n",
       "2021-05-03   -0.114027\n",
       "2021-05-04   -0.160369\n",
       "2021-05-05   -0.116418\n",
       "2021-05-06   -0.172512\n",
       "Name: 5d_close_future_pct, Length: 1340, dtype: float64"
      ]
     },
     "execution_count": 19,
     "metadata": {},
     "output_type": "execute_result"
    }
   ],
   "source": [
    "y_train"
   ]
  },
  {
   "cell_type": "code",
   "execution_count": 17,
   "id": "9132f664",
   "metadata": {},
   "outputs": [
    {
     "data": {
      "text/plain": [
       "Date\n",
       "2021-05-07   -0.155660\n",
       "2021-05-10   -0.066394\n",
       "2021-05-11    0.091109\n",
       "2021-05-12    0.061937\n",
       "2021-05-13    0.065292\n",
       "                ...   \n",
       "2021-12-01    0.028169\n",
       "2021-12-02    0.004630\n",
       "2021-12-03    0.014151\n",
       "2021-12-06   -0.009217\n",
       "2021-12-07    0.004695\n",
       "Name: 5d_close_future_pct, Length: 149, dtype: float64"
      ]
     },
     "execution_count": 17,
     "metadata": {},
     "output_type": "execute_result"
    }
   ],
   "source": [
    "y_test"
   ]
  },
  {
   "cell_type": "code",
   "execution_count": 22,
   "id": "8e0e55ce",
   "metadata": {},
   "outputs": [
    {
     "name": "stdout",
     "output_type": "stream",
     "text": [
      "Mean Absolute Error: 0.05115298535214118\n",
      "Mean Squared Error: 0.004121617548703272\n",
      "Root Mean Squared Error: 0.06419982514542599\n"
     ]
    }
   ],
   "source": [
    "rf_model = RandomForestRegressor(n_estimators = 300, max_depth = 3, max_features = 4, random_state = 1)\n",
    "rf_model.fit(X_train, y_train)\n",
    "y_pred = rf_model.predict(X_test)\n",
    "print('Mean Absolute Error:', metrics.mean_absolute_error(y_test, y_pred))\n",
    "print('Mean Squared Error:', metrics.mean_squared_error(y_test, y_pred))\n",
    "print('Root Mean Squared Error:', np.sqrt(metrics.mean_squared_error(y_test, y_pred)))"
   ]
  },
  {
   "cell_type": "code",
   "execution_count": 12,
   "id": "a7ffd186",
   "metadata": {},
   "outputs": [
    {
     "data": {
      "image/png": "[encoded data removed]",
      "text/plain": [
       "<Figure size 432x288 with 1 Axes>"
      ]
     },
     "metadata": {
      "needs_background": "light"
     },
     "output_type": "display_data"
    },
    {
     "name": "stdout",
     "output_type": "stream",
     "text": [
      "Mean Absolute Error: 0.03543938376846537\n",
      "Mean Squared Error: 0.002125574345439748\n",
      "Root Mean Squared Error: 0.046103951516543\n"
     ]
    }
   ],
   "source": [
    "lr_model = LinearRegression()\n",
    "lr_model.fit(X_train, y_train)\n",
    "y_pred = lr_model.predict(X_test)\n",
    "y_pred_series = pd.Series(y_pred, index=y_test.index)\n",
    "y_pred_series.plot()\n",
    "plt.ylabel(\"Predicted 5 Day Close Price Change Percent\")\n",
    "plt.show()\n",
    "print('Mean Absolute Error:', metrics.mean_absolute_error(y_test, y_pred))\n",
    "print('Mean Squared Error:', metrics.mean_squared_error(y_test, y_pred))\n",
    "print('Root Mean Squared Error:', np.sqrt(metrics.mean_squared_error(y_test, y_pred)))"
   ]
  },
  {
   "cell_type": "code",
   "execution_count": 13,
   "id": "e4091b90",
   "metadata": {},
   "outputs": [
    {
     "data": {
      "image/png": "[encoded data removed]",
      "text/plain": [
       "<Figure size 432x288 with 1 Axes>"
      ]
     },
     "metadata": {
      "needs_background": "light"
     },
     "output_type": "display_data"
    },
    {
     "name": "stdout",
     "output_type": "stream",
     "text": [
      "Mean Absolute Error: 0.031696682553545186\n",
      "Mean Squared Error: 0.0017513086390352134\n",
      "Root Mean Squared Error: 0.041848639631835265\n"
     ]
    }
   ],
   "source": [
    "nn_model = MLPRegressor(random_state=1, max_iter=500, activation = 'logistic', hidden_layer_sizes = (100, 100))\n",
    "nn_model.fit(X_train, y_train)\n",
    "y_pred = nn_model.predict(X_test)\n",
    "y_pred_series = pd.Series(y_pred, index=y_test.index)\n",
    "y_pred_series.plot()\n",
    "plt.ylabel(\"Predicted 5 Day Close Price Change Percent\")\n",
    "plt.show()\n",
    "print('Mean Absolute Error:', metrics.mean_absolute_error(y_test, y_pred))\n",
    "print('Mean Squared Error:', metrics.mean_squared_error(y_test, y_pred))\n",
    "print('Root Mean Squared Error:', np.sqrt(metrics.mean_squared_error(y_test, y_pred)))"
   ]
  },
  {
   "cell_type": "code",
   "execution_count": null,
   "id": "3ebd0125",
   "metadata": {},
   "outputs": [],
   "source": []
  }
 ],
 "metadata": {
  "kernelspec": {
   "display_name": "Python 3 (ipykernel)",
   "language": "python",
   "name": "python3"
  },
  "language_info": {
   "codemirror_mode": {
    "name": "ipython",
    "version": 3
   },
   "file_extension": ".py",
   "mimetype": "text/x-python",
   "name": "python",
   "nbconvert_exporter": "python",
   "pygments_lexer": "ipython3",
   "version": "3.9.7"
  }
 },
 "nbformat": 4,
 "nbformat_minor": 5
}
